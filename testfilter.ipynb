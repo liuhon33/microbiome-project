{
 "cells": [
  {
   "cell_type": "code",
   "execution_count": 1,
   "id": "a133dfa2-48ee-438a-99fc-6817574733ee",
   "metadata": {},
   "outputs": [],
   "source": [
    "import numpy as np\n",
    "from biom.table import Table\n",
    "data = np.arange(40).reshape(10, 4)\n",
    "sample_ids = ['S%d' % i for i in range(4)]\n",
    "observ_ids = ['O%d' % i for i in range(10)]"
   ]
  },
  {
   "cell_type": "code",
   "execution_count": 2,
   "id": "82c63c5f-8297-4d1c-97a7-3f5250027ceb",
   "metadata": {},
   "outputs": [],
   "source": [
    "sample_metadata = [{'environment': 'A'}, {'environment': 'B'},\n",
    "                   {'environment': 'A'}, {'environment': 'B'}]"
   ]
  },
  {
   "cell_type": "code",
   "execution_count": null,
   "id": "df8dfbc6-6300-41c1-9e15-086687b8720c",
   "metadata": {},
   "outputs": [],
   "source": [
    "observ_metadata = [{'taxonomy': ['Bacteria', 'Firmicutes']},\n",
    "                   {'taxonomy': ['Bacteria', 'Firmicutes']},\n",
    "                   {'taxonomy': ['Bacteria', 'Proteobacteria']},\n",
    "                   {'taxonomy': ['Bacteria', 'Proteobacteria']},\n",
    "                   {'taxonomy': ['Bacteria', 'Proteobacteria']},\n",
    "                   {'taxonomy': ['Bacteria', 'Bacteroidetes']},\n",
    "                   {'taxonomy': ['Bacteria', 'Bacteroidetes']},\n",
    "                   {'taxonomy': ['Bacteria', 'Firmicutes']},\n",
    "                   {'taxonomy': ['Bacteria', 'Firmicutes']},\n",
    "                   {'taxonomy': ['Bacteria', 'Firmicutes']}]"
   ]
  },
  {
   "cell_type": "code",
   "execution_count": null,
   "id": "8c862126-03fc-4723-86f8-4097e313cd71",
   "metadata": {},
   "outputs": [],
   "source": [
    "table = Table(data, observ_ids, sample_ids, observ_metadata,\n",
    "              sample_metadata, table_id='Example Table')"
   ]
  },
  {
   "cell_type": "code",
   "execution_count": null,
   "id": "c13658d4-6c68-407a-a94e-34c96144bf5b",
   "metadata": {},
   "outputs": [],
   "source": [
    "\"\"\"\n",
    "Table is a class created in the file biom.table.\n",
    "now we created an instance table using the class Table\n",
    "normed = table.norm(axis='sample', inplace=False)\n",
    "result of this after we created env_a is\n",
    ">>> print(env_a)\n",
    "    # Constructed from biom file\n",
    "#OTU ID S0      S2\n",
    "O0      0.0     0.01\n",
    "O1      0.022222222222222223    0.03\n",
    "O2      0.044444444444444446    0.05\n",
    "O3      0.06666666666666667     0.07\n",
    "O4      0.08888888888888889     0.09\n",
    "O5      0.1111111111111111      0.11\n",
    "O6      0.13333333333333333     0.13\n",
    "O7      0.15555555555555556     0.15\n",
    "O8      0.17777777777777778     0.17\n",
    "O9      0.2     0.19\n",
    "\"\"\n",
    "\n",
    "however, if we change the axis as \"observation\"\n",
    ">>> print(env_a)\n",
    "Constructed from biom file here is the output\n",
    "#OTU ID S0      S2\n",
    "O0      0.0     0.3333333333333333\n",
    "O1      0.18181818181818182     0.2727272727272727\n",
    "O2      0.21052631578947367     0.2631578947368421\n",
    "O3      0.2222222222222222      0.25925925925925924\n",
    "O4      0.22857142857142856     0.2571428571428571\n",
    "O5      0.23255813953488372     0.2558139534883721\n",
    "O6      0.23529411764705882     0.2549019607843137\n",
    "O7      0.23728813559322035     0.2542372881355932\n",
    "O8      0.23880597014925373     0.2537313432835821\n",
    "O9      0.24    0.25333333333333335\n",
    "\"\"\""
   ]
  },
  {
   "cell_type": "code",
   "execution_count": null,
   "id": "91e34aba-3944-4e1b-b030-254f9b958891",
   "metadata": {},
   "outputs": [],
   "source": [
    "normed = table.norm(axis='sample', inplace=False)\n",
    "filter_f = lambda values, id_, md: md['environment'] == 'A'\n",
    "env_a = normed.filter(filter_f, axis='sample', inplace=False)\n",
    "\n",
    "# table.shape()\n",
    "\n",
    "# practice\n",
    "# filter based on the bacteria type"
   ]
  },
  {
   "cell_type": "code",
   "execution_count": null,
   "id": "4bb748d8-bf63-44a3-b020-283102bc0088",
   "metadata": {},
   "outputs": [],
   "source": [
    "filter_g = lambda values, id_, md: md['taxonomy'] == ['Bacteria', 'Proteobacteria']\n",
    "pro_bac = normed.filter(filter_g, axis='observation', inplace=False)"
   ]
  }
 ],
 "metadata": {
  "kernelspec": {
   "display_name": "Python 3 (ipykernel)",
   "language": "python",
   "name": "python3"
  },
  "language_info": {
   "codemirror_mode": {
    "name": "ipython",
    "version": 3
   },
   "file_extension": ".py",
   "mimetype": "text/x-python",
   "name": "python",
   "nbconvert_exporter": "python",
   "pygments_lexer": "ipython3",
   "version": "3.12.7"
  }
 },
 "nbformat": 4,
 "nbformat_minor": 5
}
